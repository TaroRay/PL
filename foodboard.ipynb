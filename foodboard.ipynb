{
  "nbformat": 4,
  "nbformat_minor": 0,
  "metadata": {
    "colab": {
      "provenance": []
    },
    "kernelspec": {
      "name": "python3",
      "display_name": "Python 3"
    },
    "language_info": {
      "name": "python"
    }
  },
  "cells": [
    {
      "cell_type": "code",
      "execution_count": 57,
      "metadata": {
        "id": "YCBZ4jNE1sfu"
      },
      "outputs": [],
      "source": [
        "import requests\n",
        "from bs4 import BeautifulSoup\n",
        "num_pages = 30\n",
        "search_keyword = \"pizza\" #美食版搜尋關鍵字"
      ]
    },
    {
      "cell_type": "code",
      "source": [
        "url = 'https://www.ptt.cc/bbs/Food/index.html'"
      ],
      "metadata": {
        "id": "SaHoMeEq1y8n"
      },
      "execution_count": 58,
      "outputs": []
    },
    {
      "cell_type": "code",
      "source": [
        "session = requests.session()\n",
        "payload = {\n",
        "    'from': '/bbs/Food/index.html',\n",
        "    'yes': 'yes'\n",
        "}\n",
        "session.post('https://www.ptt.cc/ask/over18', data=payload)"
      ],
      "metadata": {
        "colab": {
          "base_uri": "https://localhost:8080/"
        },
        "id": "fXw1KmCS12_m",
        "outputId": "269c8c4e-ab61-4359-d2a9-e47fe458f985"
      },
      "execution_count": 59,
      "outputs": [
        {
          "output_type": "execute_result",
          "data": {
            "text/plain": [
              "<Response [200]>"
            ]
          },
          "metadata": {},
          "execution_count": 59
        }
      ]
    },
    {
      "cell_type": "code",
      "source": [
        "matching_titles = []"
      ],
      "metadata": {
        "id": "JROckf1d26Pw"
      },
      "execution_count": 60,
      "outputs": []
    },
    {
      "cell_type": "code",
      "source": [
        "for i in range(num_pages):\n",
        "    response = session.get(url)\n",
        "    soup = BeautifulSoup(response.text, 'html.parser')\n",
        "\n",
        "    # 解析內容\n",
        "    for article in soup.find_all(class_='r-ent'):\n",
        "        title = article.find(class_='title').text.strip()\n",
        "\n",
        "        if search_keyword in title:\n",
        "            matching_titles.append(title)\n",
        "            # 下一頁\n",
        "    paging = soup.find(class_='btn-group-paging')\n",
        "    previous_page_link = paging.find_all('a')[1]['href']\n",
        "    url = 'https://www.ptt.cc' + previous_page_link\n"
      ],
      "metadata": {
        "id": "WiLehUVo3EKc"
      },
      "execution_count": 61,
      "outputs": []
    },
    {
      "cell_type": "code",
      "source": [
        "# 列印列表\n",
        "for title in matching_titles:\n",
        "    print(title)"
      ],
      "metadata": {
        "colab": {
          "base_uri": "https://localhost:8080/"
        },
        "id": "wb5SzfBa3bmu",
        "outputId": "d49f02bc-14f2-4b40-f9e7-d160be6888ac"
      },
      "execution_count": 62,
      "outputs": [
        {
          "output_type": "stream",
          "name": "stdout",
          "text": [
            "[食記] 默爾 pasta & pizza\n",
            "[食記] 義大利Verona方盤披薩名店Sapore pizza\n"
          ]
        }
      ]
    }
  ]
}