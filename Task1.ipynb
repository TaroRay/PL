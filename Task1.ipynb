{
 "cells": [
  {
   "cell_type": "code",
   "execution_count": 4,
   "id": "c4fe9acc",
   "metadata": {},
   "outputs": [
    {
     "name": "stdout",
     "output_type": "stream",
     "text": [
      "{'林俊傑', '楊丞琳', '五月天', '羅志祥'}\n"
     ]
    }
   ],
   "source": [
    "#匯入CSV清單\n",
    "#比較2012與2013兩年皆金曲排行榜入榜之歌手或樂團\n",
    "import pandas as pd\n",
    "csv_file_path_2012 = '2012gold.csv'\n",
    "csv_file_path_2013 = '2013gold.csv'\n",
    "\n",
    "#利用 pandas 中的 read_csv 函式 讀取 CSV 檔案並轉換為 DataFrame\n",
    "df_2012 = pd.read_csv(csv_file_path_2012)\n",
    "df_2013 = pd.read_csv(csv_file_path_2013)\n",
    "\n",
    "#讀取表格中演唱者的欄位\n",
    "Singer_names_2012 = df_2012['演唱者']\n",
    "Singer_names_2013 = df_2013['演唱者']\n",
    "\n",
    "#利用set分別列出子集合\n",
    "Singer_names_2012_set = set(Singer_names_2012)\n",
    "Singer_names_2013_set = set(Singer_names_2013)\n",
    "#利用 & 求兩個子集合中的交集並利用print顯示\n",
    "print( Singer_names_2012_set & Singer_names_2013_set )"
   ]
  },
  {
   "cell_type": "code",
   "execution_count": null,
   "id": "0f69e263",
   "metadata": {},
   "outputs": [],
   "source": []
  }
 ],
 "metadata": {
  "kernelspec": {
   "display_name": "Python 3 (ipykernel)",
   "language": "python",
   "name": "python3"
  },
  "language_info": {
   "codemirror_mode": {
    "name": "ipython",
    "version": 3
   },
   "file_extension": ".py",
   "mimetype": "text/x-python",
   "name": "python",
   "nbconvert_exporter": "python",
   "pygments_lexer": "ipython3",
   "version": "3.11.4"
  }
 },
 "nbformat": 4,
 "nbformat_minor": 5
}
